{
 "cells": [
  {
   "cell_type": "markdown",
   "metadata": {},
   "source": [
    "# Tema 6: Programación Modular\n",
    "\n",
    "La programación modular es un paradigma de programación que consiste en dividir un programa en módulos o subprogramas con el fin de hacerlo más legible y manejable.\n",
    "\n",
    "Al aplicar la programación modular, un problema complejo debe ser dividido en varios subproblemas más simples, y estos a su vez en otros subproblemas más simples. Esto debe hacerse hasta obtener subproblemas lo suficientemente simples como para poder ser resueltos fácilmente con algún lenguaje de programación. Esta técnica se llama refinamiento sucesivo, divide y vencerás.\n",
    "\n",
    "En el siguiente ejemplo, vamos a crear un módulo que contiene distintas funciones matemáticas, de modo que podrán ser utilizadas múltiples veces. Este proceso permite \"reciclar\" código, de modo que no es necesario reescribir toda la función, si no que se puede realizar un llamada de la misma para simplificar la tarea.\n"
   ]
  },
  {
   "cell_type": "code",
   "execution_count": 7,
   "metadata": {},
   "outputs": [],
   "source": [
    "# mateBasica.py\n",
    "\n",
    "def suma(a, b):\n",
    "    c = a + b\n",
    "    return c\n",
    "\n",
    "def resta(a, b):\n",
    "    c = a - b\n",
    "    return c\n",
    "\n",
    "def mult(a, b):\n",
    "    c = a * b\n",
    "    return c\n",
    "\n",
    "def div(a, b):\n",
    "    c = a / b\n",
    "    return c\n",
    "\n",
    "def potencia(a, b):\n",
    "    c = a ** b\n",
    "    return c"
   ]
  },
  {
   "cell_type": "markdown",
   "metadata": {},
   "source": [
    "Una vez que hemos creado las distintas funciones, crearemos un nuevo archivo, donde haremos un llamado a las mismas, de la siguiente manera:"
   ]
  },
  {
   "cell_type": "code",
   "execution_count": 2,
   "metadata": {},
   "outputs": [],
   "source": [
    "import mateBasica"
   ]
  },
  {
   "cell_type": "markdown",
   "metadata": {},
   "source": [
    "Ahora, se pueden utilizar todas las funciones definidas en el archivo mateBasica.py definiéndolas de este modo:"
   ]
  },
  {
   "cell_type": "code",
   "execution_count": 3,
   "metadata": {},
   "outputs": [],
   "source": [
    "mateBasica.suma(2,3)"
   ]
  },
  {
   "cell_type": "markdown",
   "metadata": {},
   "source": [
    "Ahora, usaremos alguna de las librerías de Python para realizar programación modular. Para ello, utilizaremos Colorama. Esta librería permite darle color al texto que es desplegado en la consola. Para utilizarlo realizaremos lo siguiente:\n",
    "\n",
    "https://pypi.org/project/colorama/#files\n",
    "\n",
    "Descargar el archivo fuente\n",
    "\n",
    "Descompirmirlo usando:  "
   ]
  },
  {
   "cell_type": "code",
   "execution_count": null,
   "metadata": {},
   "outputs": [],
   "source": [
    "tar -xzvf <archivo>"
   ]
  },
  {
   "cell_type": "markdown",
   "metadata": {},
   "source": [
    "Y realizar la ejecución de la siguiente manera:"
   ]
  },
  {
   "cell_type": "code",
   "execution_count": null,
   "metadata": {},
   "outputs": [],
   "source": [
    "sudo python setup.py install"
   ]
  },
  {
   "cell_type": "markdown",
   "metadata": {},
   "source": [
    "Ahora realizaremos un pequeño ejemplo:"
   ]
  },
  {
   "cell_type": "code",
   "execution_count": null,
   "metadata": {},
   "outputs": [],
   "source": [
    "from colorama import Fore, init\n",
    "init()\n",
    "\n",
    "print(\"Ejemplo de uso de Colorama\")\n",
    "print(Fore.GREEN + \"Prueba de texto en verde\")"
   ]
  },
  {
   "cell_type": "markdown",
   "metadata": {},
   "source": [
    "Más ejemplos:\n",
    "    https://recursospython.com/guias-y-manuales/colorama-texto-fondo-coloreados-la-consola/"
   ]
  }
 ],
 "metadata": {
  "kernelspec": {
   "display_name": "Python 3",
   "language": "python",
   "name": "python3"
  },
  "language_info": {
   "codemirror_mode": {
    "name": "ipython",
    "version": 3
   },
   "file_extension": ".py",
   "mimetype": "text/x-python",
   "name": "python",
   "nbconvert_exporter": "python",
   "pygments_lexer": "ipython3",
   "version": "3.4.2"
  }
 },
 "nbformat": 4,
 "nbformat_minor": 2
}
