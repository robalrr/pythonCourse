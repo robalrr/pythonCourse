{
 "cells": [
  {
   "cell_type": "markdown",
   "metadata": {
    "slideshow": {
     "slide_type": "slide"
    }
   },
   "source": [
    "# Tipos de Datos\n",
    "Existen distintos tipos de Datos en python los cuales se pueden ver a continuacion:"
   ]
  },
  {
   "cell_type": "markdown",
   "metadata": {},
   "source": [
    "## Enteros \n",
    "Los numeros enteros son aquellos que no presentan decimales, pueden ser positivos y negativos. En otros lenguages estos se definen con el formato de **int** . Ademas estos pueden ser expresados en distintos formatos como octal o hexadecimal tal y como se muestra en el siguiente codigo."
   ]
  },
  {
   "cell_type": "code",
   "execution_count": 28,
   "metadata": {
    "slideshow": {
     "slide_type": "-"
    }
   },
   "outputs": [
    {
     "name": "stdout",
     "output_type": "stream",
     "text": [
      " Entero: 2018 <class 'int'> \n",
      " Octal:  2018 <class 'int'> \n",
      " Hexadecimal:  2018 <class 'int'>\n"
     ]
    }
   ],
   "source": [
    "## Enteros\n",
    "Entero = 2018\n",
    "# Se puede expresar en otros formatos\n",
    "NumOctal = 0o3742 # Octal en python 2 es 03742\n",
    "NumHex = 0x7E2    # Hexadecimal\n",
    "print (' Entero:', Entero, type(Entero), '\\n', 'Octal: ', NumOctal, type(NumOctal), '\\n' , 'Hexadecimal: ' , NumHex , type(NumHex))"
   ]
  },
  {
   "cell_type": "markdown",
   "metadata": {},
   "source": [
    "## Reales \n",
    "Otra posibilidad es de utilizar numeros reales, en otros lenguajes pueden ser catalogados como **float** los cuales tienen 32 bits de precision o como **double** lo que se refiere a que tienen doble precision, en python unicamente existen double y estos se expresan mediante un punto y permite numeros entre $ \\pm 2,2250738585072020 x 10^{-308} $  y  $ \\pm 1,7976931348623157×10^{308} $. A continuacion se muestran un ejemplo de lo descrito."
   ]
  },
  {
   "cell_type": "code",
   "execution_count": 33,
   "metadata": {
    "slideshow": {
     "slide_type": "-"
    }
   },
   "outputs": [
    {
     "name": "stdout",
     "output_type": "stream",
     "text": [
      " Real: 2.018 <class 'float'>  \n",
      " Rexp: 2.018 <class 'float'>\n"
     ]
    }
   ],
   "source": [
    "# Numeros Reales\n",
    "Real = 2.018      # Permite numeros entre ±2,2250738585072020 x 10-308 \n",
    "Rexp = 2018e-3    # y ±1,7976931348623157×10308.\n",
    "print (' Real:' , Real, type(Real), ' \\n Rexp:',  Rexp, type(Rexp)  ) # Esta linea solo imprime codigo"
   ]
  },
  {
   "cell_type": "markdown",
   "metadata": {},
   "source": [
    "## Complejos \n",
    "Los numeros complejos son los que presentan una parte real y una parte imaginaria, este tipo de dato no existe en muchos otros lenguajes"
   ]
  },
  {
   "cell_type": "code",
   "execution_count": 32,
   "metadata": {},
   "outputs": [
    {
     "name": "stdout",
     "output_type": "stream",
     "text": [
      " Complejo: (0.2018+2.017j) <class 'complex'>\n"
     ]
    }
   ],
   "source": [
    "# Numeros Complejos \n",
    "complejo = 0.2018 + 2.017j # Parte Real y parte Imaginaria\n",
    "print(' Complejo:' , complejo, type(complejo))"
   ]
  },
  {
   "cell_type": "markdown",
   "metadata": {},
   "source": [
    "## Operadores\n",
    "A continuacion se enlista en una tabla una serie de operaciones que se pueden realizar con los tipos de datos ya presentados:\n",
    "\n",
    "| Operando      |           Descripcion           |\n",
    "|:-------------:|:-------------------------------:|\n",
    "| x + y         |      Suma \"x\" y \"y\"             |\n",
    "| x - y         |      Resta \"y\" a \"x\"            |   \n",
    "| x * y         |      Multiplica \"x\" por \"y\"     |  \n",
    "| x/y           | Divide x entre y retorna real   |          \n",
    "| x // y        |  Divide y da un numero entero   |                    \n",
    "| x % y         | Residuo de la division x/y      |                    \n",
    "|   -x          | Niega X                         |                    \n",
    "| abs(x)        | Valor absoluto de x             |                   \n",
    "|int(x)         | Lo convierte a entero           |                  \n",
    "| long(x)       | Convierte en un Long            |                  \n",
    "| float(x)      | Lo convierte en float           |                 \n",
    "|complex(re,im) |  Numero complejo con parte real re e imaginaria im, por default im = 0  |                              \n",
    "|c.conjugate    | Saca el conjugado del numero complejo |\n",
    "| divmod(x,y)   | Retorna el par (x// y , x % y) |\n",
    "|pow (x , y)    | x elevado a la y               |\n",
    "| x\\**y  | x elevado a la y |"
   ]
  },
  {
   "cell_type": "markdown",
   "metadata": {},
   "source": [
    "## Booleanos\n",
    "Los datos booleanos sólo puede tener dos valores: True (cierto) y False (falso). Estos se utilizan principalmente para hacer saltos condicionales y ciclos. Este tema de saltos se vera mas adelante."
   ]
  },
  {
   "cell_type": "code",
   "execution_count": 37,
   "metadata": {},
   "outputs": [
    {
     "name": "stdout",
     "output_type": "stream",
     "text": [
      "\n",
      "Tipos de datos booleanos\n",
      "========================\n",
      "\n",
      "El valor es Verdadero: True , el cual es de tipo <class 'bool'> \n",
      "\n",
      "El valor es Falso: False , el cual es de tipo <class 'bool'>\n"
     ]
    }
   ],
   "source": [
    "# -*- coding: utf8 -*-\n",
    "\n",
    "print ('\\nTipos de datos booleanos')\n",
    "print ('========================\\n')\n",
    "\n",
    "# Tipos de datos booleanos\n",
    "aT = True\n",
    "print (\"El valor es Verdadero:\", aT, \", el cual es de tipo\", type(aT), \"\\n\")\n",
    "\n",
    "aF = False\n",
    "print (\"El valor es Falso:\", aF, \", el cual es de tipo\", type(aF))\n",
    "\n"
   ]
  },
  {
   "cell_type": "markdown",
   "metadata": {},
   "source": [
    "### Operadores\n",
    "Tambien tienen sus operadores los cuales son operadores logicos como se muestra en la tabla acontinuacion, mas adelante se tiene un ejemplo de ello."
   ]
  },
  {
   "cell_type": "markdown",
   "metadata": {},
   "source": [
    "|Operador| Salida |\n",
    "|:------:|:----------:|\n",
    "| true and  true   | true |\n",
    "|true and false    | false |\n",
    "| false and false  | false |\n",
    "| true or true | true |\n",
    "| true  or false | true | \n",
    "| false or false | false |\n",
    "| not true    | false    |\n",
    "| not false   | true     |"
   ]
  },
  {
   "cell_type": "code",
   "execution_count": 39,
   "metadata": {},
   "outputs": [
    {
     "name": "stdout",
     "output_type": "stream",
     "text": [
      "\n",
      "Operadores booleanos\n",
      "====================\n",
      "\n",
      "SI es Verdadero Y Falso, entonces es: False , el cual es de tipo <class 'bool'> \n",
      "\n",
      "SI es Verdadero O Falso, entonces es: True , el cual es de tipo <class 'bool'> \n",
      "\n",
      "Si NO es Verdadero, entonces es: False , el cual es de tipo <class 'bool'> \n",
      "\n"
     ]
    }
   ],
   "source": [
    "print ('\\nOperadores booleanos')\n",
    "print ('====================\\n')\n",
    "# Operadores booleanos\n",
    "aAnd = True and False\n",
    "print (\"SI es Verdadero Y Falso, entonces es:\", aAnd, \", el cual es de tipo\", type(aAnd), \"\\n\")\n",
    "\n",
    "aOr = True or False\n",
    "print (\"SI es Verdadero O Falso, entonces es:\", aOr, \", el cual es de tipo\", type(aOr), \"\\n\")\n",
    "\n",
    "aNot = not True\n",
    "print (\"Si NO es Verdadero, entonces es:\", aNot, \", el cual es de tipo\", type(aNot), \"\\n\")"
   ]
  },
  {
   "cell_type": "markdown",
   "metadata": {},
   "source": [
    "## Cadenas \n",
    "Las cadenas son texto encerrado entre comillas simples (‘cadena’) o dobles (“cadena”). Dentro de las comillas se pueden añadir caracteres especiales escapándolos con ‘\\’, como ‘\\n’, el carácter de nueva línea, o ‘\\t’, el de tabulación. Ejemplo:"
   ]
  },
  {
   "cell_type": "code",
   "execution_count": 43,
   "metadata": {},
   "outputs": [
    {
     "name": "stdout",
     "output_type": "stream",
     "text": [
      "Texto entre comillas simples\n",
      "<class 'str'>\n",
      "Texto entre comillas dobles\n",
      "<class 'str'>\n",
      "Texto entre \n",
      "\tcomillas simples\n",
      "<class 'str'>\n",
      "CadenaCadenaCadena\n",
      "<class 'str'>\n"
     ]
    }
   ],
   "source": [
    "# -*- coding: utf8 -*-\n",
    "\n",
    "# Comillas simples\n",
    "cadenaa = 'Texto entre comillas simples'\n",
    "print (cadenaa)\n",
    "print (type(cadenaa))\n",
    "\n",
    "# Comillas dobles\n",
    "cadenab = \"Texto entre comillas dobles\"\n",
    "print (cadenab)\n",
    "print (type(cadenab))\n",
    "\n",
    "# Cadena con codigo escapes\n",
    "cadenaesc = 'Texto entre \\n\\tcomillas simples'\n",
    "print (cadenaesc)\n",
    "print (type(cadenaesc))\n"
   ]
  },
  {
   "cell_type": "markdown",
   "metadata": {},
   "source": [
    "Tambien se permite operadores como la suma y la multiplicacion entre cadenas u acceder a elementos de la cadena, como se observa a continuacion:"
   ]
  },
  {
   "cell_type": "code",
   "execution_count": 48,
   "metadata": {},
   "outputs": [
    {
     "name": "stdout",
     "output_type": "stream",
     "text": [
      "CadenaCadenaCadena\n",
      "<class 'str'>\n",
      "Tambien puedo acceder a elementos de la cadena, accedo al segundo elemento de cadrep\n",
      "a\n",
      "Leonardo Caballero\n",
      "<class 'str'>\n",
      "Tamano de cadena ' Leonardo Caballero ' es: 18\n",
      "nardo Caba\n"
     ]
    }
   ],
   "source": [
    "# Repeticion de cadena\n",
    "cadrep = \"Cadena\" * 3\n",
    "print (cadrep)\n",
    "print (type (cadrep))\n",
    "# Acceder a elementos de la cadena\n",
    "print ('Tambien puedo acceder a elementos de la cadena, accedo al segundo elemento de cadrep' )\n",
    "print (cadrep[1])  # Accedo al caracter en la posicion 1.\n",
    "# Concatenacion de cadena\n",
    "nombre = \"Leonardo\"\n",
    "apellido = \"Caballero\"\n",
    "nombre_completo = nombre + \" \" + apellido\n",
    "print (nombre_completo)\n",
    "print (type (nombre_completo))\n",
    "\n",
    "print (\"Tamano de cadena '\", nombre_completo, \"' es:\", len(nombre_completo))\n",
    "# acceder a rango de la cadena\n",
    "print (nombre_completo[3:13])"
   ]
  },
  {
   "cell_type": "markdown",
   "metadata": {},
   "source": [
    "# Mutabilidad de los Datos\n",
    "En python existen datos que son mutables y otros que son inmutables. Se dice que una variable es inmutable cuando es posible asignar un nuevo valor a esa variable, pero no es posible modificar su contenido.  Ejemplo de ello son los números, los strings y las tuplas. A continuacion se muestra un ejemplo: "
   ]
  },
  {
   "cell_type": "code",
   "execution_count": 1,
   "metadata": {},
   "outputs": [
    {
     "ename": "TypeError",
     "evalue": "'str' object does not support item assignment",
     "output_type": "error",
     "traceback": [
      "\u001b[0;31m---------------------------------------------------------------------------\u001b[0m",
      "\u001b[0;31mTypeError\u001b[0m                                 Traceback (most recent call last)",
      "\u001b[0;32m<ipython-input-1-cb66efb4e8fb>\u001b[0m in \u001b[0;36m<module>\u001b[0;34m()\u001b[0m\n\u001b[1;32m      1\u001b[0m \u001b[0ma\u001b[0m\u001b[0;34m=\u001b[0m\u001b[0;34m\"ejemplo\"\u001b[0m\u001b[0;34m\u001b[0m\u001b[0m\n\u001b[1;32m      2\u001b[0m \u001b[0ma\u001b[0m\u001b[0;34m=\u001b[0m\u001b[0;34m\"otro\"\u001b[0m\u001b[0;34m\u001b[0m\u001b[0m\n\u001b[0;32m----> 3\u001b[0;31m \u001b[0ma\u001b[0m\u001b[0;34m[\u001b[0m\u001b[0;36m2\u001b[0m\u001b[0;34m]\u001b[0m\u001b[0;34m=\u001b[0m\u001b[0;34m\"c\"\u001b[0m\u001b[0;34m\u001b[0m\u001b[0m\n\u001b[0m",
      "\u001b[0;31mTypeError\u001b[0m: 'str' object does not support item assignment"
     ]
    }
   ],
   "source": [
    "a=\"ejemplo\"\n",
    "a=\"otro\"\n",
    "a[2]=\"c\""
   ]
  },
  {
   "cell_type": "markdown",
   "metadata": {},
   "source": [
    "Como se observa en el codigo anterior es posible asignarle un nuevo valor a la variable a, sin embargo no es posible modificar su contenido directamente, esto se debe a que cuando se realiza una nueva asigancion no se modifica el valor de la cadena en si, sino que se pasa a apuntar a otra cadena. En cambio, no es posible asignar un nuevo caracter en una posición, ya que esto implicaría modificar la cadena inmutable.\n",
    "Algo importante a tener en cuenta en el caso de las variables de tipo mutable es que si hay dos o más variables que apuntan a un mismo dato, y este dato se modifica, el cambio se ve reflejado en ambas variables como se muestra a continuacion:"
   ]
  },
  {
   "cell_type": "code",
   "execution_count": 4,
   "metadata": {},
   "outputs": [
    {
     "data": {
      "text/plain": [
       "[1, 5, 3]"
      ]
     },
     "execution_count": 4,
     "metadata": {},
     "output_type": "execute_result"
    }
   ],
   "source": [
    "lista1=[1, 2, 3]\n",
    "lista2 = lista1\n",
    "lista2[1] = 5\n",
    "lista1"
   ]
  },
  {
   "cell_type": "markdown",
   "metadata": {},
   "source": [
    "# Listas\n",
    "En Python las listas son variables que almacenan arrays, internamente cada posición puede ser un tipo de datos distinto. "
   ]
  },
  {
   "cell_type": "code",
   "execution_count": 5,
   "metadata": {},
   "outputs": [
    {
     "data": {
      "text/plain": [
       "['pan', 'huevos', 100, 1234]"
      ]
     },
     "execution_count": 5,
     "metadata": {},
     "output_type": "execute_result"
    }
   ],
   "source": [
    "a = ['pan', 'huevos', 100, 1234]\n",
    "a\n",
    "['pan', 'huevos', 100, 1234]\n"
   ]
  },
  {
   "cell_type": "code",
   "execution_count": 7,
   "metadata": {},
   "outputs": [
    {
     "name": "stdout",
     "output_type": "stream",
     "text": [
      "[2, 'tres', True, ['uno', 10]]\n",
      "tres\n",
      "uno\n",
      "[2, 4, True, ['uno', 10]]\n",
      "[2, 'tres', True]\n",
      "[2, True]\n",
      "['tres', ['uno', 10]]\n"
     ]
    }
   ],
   "source": [
    "# Otro tipo de Dato\n",
    "\n",
    "\"\"\"\n",
    "   La lista en Python son variables que almacenan arrays, \n",
    "   internamente cada posicion puede ser un tipo de datos distinto.\n",
    "\"\"\"\n",
    "\n",
    "# Coleccion ordenada / arreglos o vectores\n",
    "l = [2, \"tres\", True, [\"uno\", 10]]\n",
    "print (l)\n",
    "\n",
    "# Accesar a un elemento especifico\n",
    "l2 = l[1]\n",
    "print (l2)\n",
    "\n",
    "# Accesar a un elemento a una lista anidada\n",
    "l3 = l[3][0]\n",
    "print (l3)\n",
    "\n",
    "# establecer nuevo valor de un elemento de lista\n",
    "l[1] = 4\n",
    "print (l)\n",
    "l[1] = \"tres\"\n",
    "\n",
    "# Obtener un rango de elemento especifico\n",
    "l3 = l[0:3]\n",
    "print (l3)\n",
    "\n",
    "# Obtener un rango con soltos de elementos especificos\n",
    "l4 = l[0:3:2]\n",
    "print (l4)\n",
    "\n",
    "l5 = l[1::2]\n",
    "print (l5)"
   ]
  },
  {
   "cell_type": "markdown",
   "metadata": {},
   "source": [
    "## Tuplas\n",
    "Una tupla es una lista inmutable. Una tupla no puede modificarse de ningún modo después de su creación. Se muestra un ejemplo a continuacion:"
   ]
  },
  {
   "cell_type": "code",
   "execution_count": null,
   "metadata": {},
   "outputs": [],
   "source": [
    "# Ejemplo simple de tupla\n",
    "tupla = 12345, 54321, 'hola!'\n",
    "\n",
    "# Ejemplo de tuplas anidadas\n",
    "otra = tupla, (1, 2, 3, 4, 5)"
   ]
  },
  {
   "cell_type": "markdown",
   "metadata": {},
   "source": [
    "## Conjuntos\n",
    "Un conjunto, es una colección no ordenada y sin elementos repetidos. Los usos básicos de éstos incluyen verificación de pertenencia y eliminación de entradas duplicadas. Ejemplo:"
   ]
  },
  {
   "cell_type": "code",
   "execution_count": 9,
   "metadata": {},
   "outputs": [
    {
     "name": "stdout",
     "output_type": "stream",
     "text": [
      "['pastel', 'tequeno', 'papa', 'empanada', 'mandoca', 'queso']\n",
      "<class 'list'>\n",
      "['refresco', 'malta', 'jugo', 'cafe']\n",
      "<class 'list'>\n",
      "{'papa', 'tequeno', 'pastel', 'empanada', 'mandoca', 'queso'}\n",
      "<class 'set'>\n",
      "{'jugo', 'malta', 'cafe', 'refresco'}\n",
      "<class 'set'>\n"
     ]
    }
   ],
   "source": [
    "# crea un conjunto sin repetidos\n",
    "plato = ['pastel', 'tequeno', 'papa', 'empanada', 'mandoca', 'queso']\n",
    "print (plato)\n",
    "print (type(plato))\n",
    "bebida = ['refresco', 'malta', 'jugo', 'cafe']\n",
    "print (bebida)\n",
    "print (type(bebida))\n",
    "\n",
    "para_comer = set(plato)\n",
    "print (para_comer)\n",
    "print (type(para_comer))\n",
    "\n",
    "para_tomar = set(bebida)\n",
    "print (para_tomar)\n",
    "print (type(para_tomar))\n"
   ]
  },
  {
   "cell_type": "markdown",
   "metadata": {},
   "source": [
    "## Diccionarios \n",
    "El diccionario define una relación uno a uno entre claves y valores. Ejemplo:"
   ]
  },
  {
   "cell_type": "code",
   "execution_count": 10,
   "metadata": {},
   "outputs": [
    {
     "name": "stdout",
     "output_type": "stream",
     "text": [
      "\n",
      "Detalle del diccionario\n",
      "=======================\n",
      "\n",
      "\n",
      "Claves del diccionario: dict_keys(['nombres', 'apellidos', 'cedula', 'fecha_nacimiento', 'lugar_nacimiento', 'nacionalidad', 'estado_civil'])\n",
      "\n",
      "Valores del diccionario: dict_values(['Leonardo Jose', 'Caballero Garcia', '14522590', '03121980', 'Maracaibo, Zulia, Venezuela', 'Venezolana', 'Complicado'])\n",
      "\n",
      "Elementos del diccionario: dict_items([('nombres', 'Leonardo Jose'), ('apellidos', 'Caballero Garcia'), ('cedula', '14522590'), ('fecha_nacimiento', '03121980'), ('lugar_nacimiento', 'Maracaibo, Zulia, Venezuela'), ('nacionalidad', 'Venezolana'), ('estado_civil', 'Complicado')])\n",
      "\n",
      "Inscripcion de Curso\n",
      "====================\n",
      "\n",
      "Datos de participante\n",
      "---------------------\n",
      "Cedula de identidad: 14522590\n",
      "Nombre completo: Leonardo Jose Caballero Garcia\n"
     ]
    }
   ],
   "source": [
    "# -*- coding: utf8 -*-\n",
    "\n",
    "\"\"\"\n",
    "    El diccionario, que define una relación \n",
    "    uno a uno entre claves y valores.\n",
    "\"\"\"\n",
    "\n",
    "datos_basicos = {\n",
    "    \"nombres\":\"Leonardo Jose\",\n",
    "    \"apellidos\":\"Caballero Garcia\",\n",
    "    \"cedula\":\"14522590\",\n",
    "    \"fecha_nacimiento\":\"03121980\",\n",
    "    \"lugar_nacimiento\":\"Maracaibo, Zulia, Venezuela\",\n",
    "    \"nacionalidad\":\"Venezolana\",\n",
    "    \"estado_civil\":\"Complicado\"\n",
    "}\n",
    "\n",
    "print (\"\\nDetalle del diccionario\")\n",
    "print (\"=======================\\n\")\n",
    "\n",
    "print (\"\\nClaves del diccionario:\", datos_basicos.keys())\n",
    "print (\"\\nValores del diccionario:\", datos_basicos.values())\n",
    "print (\"\\nElementos del diccionario:\", datos_basicos.items())\n",
    "\n",
    "\n",
    "# Ejemplo practico de los diccionarios\n",
    "print (\"\\nInscripcion de Curso\")\n",
    "print (\"====================\")\n",
    "\n",
    "print (\"\\nDatos de participante\")\n",
    "print (\"---------------------\")\n",
    "\n",
    "print (\"Cedula de identidad:\", datos_basicos['cedula'])\n",
    "print (\"Nombre completo: \" + datos_basicos['nombres'] + \" \" + datos_basicos['apellidos'])\n"
   ]
  }
 ],
 "metadata": {
  "kernelspec": {
   "display_name": "Python 3",
   "language": "python",
   "name": "python3"
  },
  "language_info": {
   "codemirror_mode": {
    "name": "ipython",
    "version": 3
   },
   "file_extension": ".py",
   "mimetype": "text/x-python",
   "name": "python",
   "nbconvert_exporter": "python",
   "pygments_lexer": "ipython3",
   "version": "3.6.5"
  }
 },
 "nbformat": 4,
 "nbformat_minor": 2
}
