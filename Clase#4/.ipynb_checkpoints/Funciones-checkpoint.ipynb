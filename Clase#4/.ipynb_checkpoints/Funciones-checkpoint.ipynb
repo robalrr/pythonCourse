{
 "cells": [
  {
   "cell_type": "markdown",
   "metadata": {},
   "source": [
    "# Tema 4: Programacion Funcional\n",
    "En ocasiones queremos aplicar una serie de operaciones sobre distintos grupos de datos, una manera eficiente para no tener que estar copiando y pegando el mismo codigo es mediante funciones. Las funciones pueden ser definidas por el programador mediante la palabra **def** , para ello utilizamos la palabra \"def\" y seguida del nombre de la funcion seguida de parentesis y \":\" como se muestra en el siguiente ejemplo."
   ]
  },
  {
   "cell_type": "code",
   "execution_count": 15,
   "metadata": {},
   "outputs": [
    {
     "name": "stdout",
     "output_type": "stream",
     "text": [
      "Hola Mundo\n",
      "Hola Mundo\n"
     ]
    }
   ],
   "source": [
    "def saludo():    \n",
    "    print(\"Hola Mundo\")\n",
    "saludo()\n",
    "saludo()"
   ]
  },
  {
   "cell_type": "markdown",
   "metadata": {},
   "source": [
    "## Parametros\n",
    "Las funciones pueden requerir ciertos datos para poder ser ejecutadas, estos datos se conocen como parámetros y van entre los parentesis. Dicho de otro modo un parámetro es un valor que la función espera recibir cuando sea llamada (invocada), a fin de ejecutar acciones en base al mismo. Una función puede esperar uno o más parámetros (que irán separados por una coma) o ninguno."
   ]
  },
  {
   "cell_type": "code",
   "execution_count": 2,
   "metadata": {},
   "outputs": [
    {
     "name": "stdout",
     "output_type": "stream",
     "text": [
      "0\n",
      "1\n",
      "1\n",
      "2\n",
      "3\n",
      "Fin de fib(5) e inicio de fib (10)\n",
      "0\n",
      "1\n",
      "1\n",
      "2\n",
      "3\n",
      "5\n",
      "8\n",
      "13\n",
      "21\n",
      "34\n"
     ]
    }
   ],
   "source": [
    "def fib(n):    # escribe la serie de Fibonacci hasta n \n",
    "    k = 1\n",
    "    a,b = 0, 1\n",
    "    while k <= n:\n",
    "        print (a,)\n",
    "        k = k+1\n",
    "        a,b = b, a+b \n",
    "fib(5)        # Utilizo la funcion\n",
    "print(\"Fin de fib(5) e inicio de fib (10)\")\n",
    "fib(10)"
   ]
  },
  {
   "cell_type": "markdown",
   "metadata": {},
   "source": [
    "# Parametros por omision \n",
    " Existe la posibilidad de asignar parámetros por defecto esto quiere decir que si el usuario no le define un valor a uno de los parámetros la función tomará el que tiene por defecto para realizar las operaciones que deba de hacer para dar un determinado resultado. Se muestra un ejemplo a continuación."
   ]
  },
  {
   "cell_type": "code",
   "execution_count": 23,
   "metadata": {},
   "outputs": [
    {
     "name": "stdout",
     "output_type": "stream",
     "text": [
      "Hola Pepe Grillo\n"
     ]
    }
   ],
   "source": [
    "\n",
    "\n",
    "def saludar(nombre, mensaje='Hola'): \n",
    "    print (mensaje, nombre) \n",
    "\n",
    "if __name__ == '__main__': \n",
    "    saludar('Pepe Grillo') # Imprime: Hola Pepe Grillo\n",
    "\n"
   ]
  },
  {
   "cell_type": "markdown",
   "metadata": {},
   "source": [
    "# Retorno\n",
    "El valor de retorno es el valor que llega a devolver la función en caso de ser necesario, este se especifica mediante el comando **return** y por lo general se encuentra al final de definir la función. El valor de retorno puede ser cualquier tipo de dato ya antes visto."
   ]
  },
  {
   "cell_type": "code",
   "execution_count": 1,
   "metadata": {},
   "outputs": [
    {
     "name": "stdout",
     "output_type": "stream",
     "text": [
      "25\n",
      "El resultado es:  20\n"
     ]
    }
   ],
   "source": [
    "def mult(a,b):\n",
    "    c = a*b\n",
    "    return c\n",
    "if __name__ == '__main__':\n",
    "    # Para probarlo simplemente iteramos sobre la función\n",
    "    Valor_1 = 4\n",
    "    Valor_2 = 5\n",
    "    result = mult(Valor_1,Valor_2)\n",
    "    print(\"El resultado es: \", result)\n",
    "    "
   ]
  },
  {
   "cell_type": "markdown",
   "metadata": {},
   "source": [
    "# Variables Locales\n",
    "Las variables locales son aquellas que están definidas dentro de la función, es por ello que si se trata de acceder a ella desde el programa principal o desde otra función no será posible. Las variables locales únicamente viven dentro de la función, en caso de que se desee poder acceder a una variable local esta deberá ser retornada como se observa en el ejemplo anterior con la variable c."
   ]
  },
  {
   "cell_type": "markdown",
   "metadata": {},
   "source": [
    "# Variables Globales\n",
    "Las variables globales son las que existen para todas las funciones y estas pueden llegar a ser modificadas por varias funciones. Estas deben estar definidas afuera de cualquier función y pueden ser leídas en cualquier momento por cualquiera de las funciones implementadas. Para poder acceder a modificar estas variables globales debe de declararse dentro de la función con la palabra **global** como se muestra en el siguiente ejemplo, de lo contrario es una variable local."
   ]
  },
  {
   "cell_type": "code",
   "execution_count": 18,
   "metadata": {},
   "outputs": [
    {
     "name": "stdout",
     "output_type": "stream",
     "text": [
      "20\n",
      "5000.0\n"
     ]
    }
   ],
   "source": [
    "Precio_Total= 0\n",
    "\n",
    "def Prueba():\n",
    "    Precio_Total = 5 # Esto es una variable local\n",
    "    Precio_Total = Precio_Total*4\n",
    "    print(Precio_Total)\n",
    "\n",
    "def SetPrecio(Precio_Dado):\n",
    "    global Precio_Total  # Esto es una pa\n",
    "    Precio_Total= Precio_Dado\n",
    "\n",
    "def Descuento(Porcentaje):\n",
    "    global Precio_Total\n",
    "    Precio_Total =  Precio_Total*(100-Porcentaje)/100\n",
    "    \n",
    "if __name__ == '__main__':\n",
    "    SetPrecio(10000)\n",
    "    Descuento(50)\n",
    "    Prueba()\n",
    "    \n",
    "    print(Precio_Total)\n",
    "    #print(Precio_Total)\n",
    "    "
   ]
  },
  {
   "cell_type": "markdown",
   "metadata": {},
   "source": [
    "# Recursividad\n",
    "En ocasiones puede ocurrir que una función se llama así misma para poder resolver un problema, esto es conocido como recursividad. El ejemplo clásico de este método es el de factorización el cual se muestra acontinuación."
   ]
  },
  {
   "cell_type": "code",
   "execution_count": 20,
   "metadata": {},
   "outputs": [
    {
     "name": "stdout",
     "output_type": "stream",
     "text": [
      "6\n"
     ]
    }
   ],
   "source": [
    "def factorial(n):\n",
    "    if n == 0:\n",
    "        result = 1\n",
    "    else:   \n",
    "        result = factorial(n-1)*n\n",
    "    return result \n",
    "if __name__ == '__main__':\n",
    "    # Para probarlo simplemente iteramos sobre la función\n",
    "    result=factorial(3)\n",
    "    print(result)"
   ]
  },
  {
   "cell_type": "markdown",
   "metadata": {},
   "source": [
    "# Ejercicios\n",
    "\n",
    "## Problema 1\n",
    "   Realice una función la cual determine si se puede formar un triangulo y reciba como parametros la medicion de sus 3 lados. Debe devolver como variable de retorno un booleano **True** en caso de que se pueda  y **False** en caso de que no sea posible. Ademas debe imprimir un mensaje indicando que es posible o no lo sea.\n",
    "\n",
    "## Problema 2\n",
    "   Realice una función que sea capaz de calcular el perímetro de un polígono regular el cual reciba como parámetros el número de vértices y el tamaño de uno de sus lados.\n",
    "   \n",
    "## Problema 3\n",
    "   Realice una función que sea capaz de calcular el área de un polígono regular a partir del número de vértices, el apotema y el tamaño de uno de sus lados\n",
    "   \n",
    "## Problema 4\n",
    "   Realice una función la cual retorne un vector (Lista o tupla) en el que se calcule el valor del perímetro y del área partiendo de las dos funciones anteriores ya descritas. Esta recibirá como parámetro únicamente el número de vértices y el tamaño de uno de sus lados. Considere utilizar la librería math para hacer uso de las funciones **sen()** y **cos()**\n",
    "   \n"
   ]
  }
 ],
 "metadata": {
  "kernelspec": {
   "display_name": "Python 3",
   "language": "python",
   "name": "python3"
  },
  "language_info": {
   "codemirror_mode": {
    "name": "ipython",
    "version": 3
   },
   "file_extension": ".py",
   "mimetype": "text/x-python",
   "name": "python",
   "nbconvert_exporter": "python",
   "pygments_lexer": "ipython3",
   "version": "3.6.5"
  }
 },
 "nbformat": 4,
 "nbformat_minor": 2
}
