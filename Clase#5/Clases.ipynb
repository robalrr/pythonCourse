{
 "cells": [
  {
   "cell_type": "markdown",
   "metadata": {},
   "source": [
    "# Tema 5: Programación Orientada a Objetos\n",
    "La programación orientada a objetos es un paradigma  el cual propone modelar todo en base a clases y a objetos.\n",
    "Iniciaremos creando una clase, para lo cual utilizamos la palabra _class_.\n",
    "Note la notación de 2 puntos y la identación, la cual define el contenido de nuestra clase."
   ]
  },
  {
   "cell_type": "code",
   "execution_count": 7,
   "metadata": {},
   "outputs": [],
   "source": [
    "class Fraccion:\n",
    "\n",
    "    def __init__(self,arriba,abajo):\n",
    "\n",
    "        self.num = arriba\n",
    "        self.den = abajo"
   ]
  },
  {
   "cell_type": "markdown",
   "metadata": {},
   "source": [
    "Observe que la lista de parámetros formales contiene tres elementos (self, arriba, abajo). self es un parámetro especial que siempre se utilizará como una referencia al objeto mismo. Debe ser siempre el primer parámetro formal; no obstante, nunca se le dará un valor de parámetro real en la invocación.\n",
    "\n",
    "Para crear un objeto, en este caso particular, es el _objeto Fraccion_, tendremos que proporcionar dos datos, el numerador y el denominador. En Python, el método constructor siempre se llama __init__ (con doble raya baja antes y después de init). La función __init__ siempre se ejecuta cuando se crea un objeto.\n",
    "\n",
    "self es un parámetro especial que siempre se utilizará como una referencia al objeto mismo. Debe ser siempre el primer parámetro formal; no obstante, nunca se le dará un valor de parámetro real en la invocación.\n",
    "\n",
    "La notación self.num en el constructor define que el objeto fraccion tenga un objeto de datos interno llamado num como parte de su estado. Del mismo modo, self.den crea el denominador. Los valores de los dos parámetros formales se asignan inicialmente al estado, permitiendo que el nuevo objeto fraccion conozca su valor inicial.\n",
    "\n",
    "Para crear una instancia de la clase Fraccion, debemos invocar al constructor. Esto ocurre usando el nombre de la clase y pasando los valores reales para el estado necesario (note que nunca invocamos directamente a __init__). Por ejemplo,"
   ]
  },
  {
   "cell_type": "code",
   "execution_count": 8,
   "metadata": {},
   "outputs": [],
   "source": [
    "miFraccion = Fraccion(3,5)"
   ]
  },
  {
   "cell_type": "markdown",
   "metadata": {},
   "source": [
    "Crea un objeto llamado miFraccion que representa la fracción 3/5 (tres quintos). ¿Qué sucede si queremos imprimir el valor de la fracción creada?"
   ]
  },
  {
   "cell_type": "code",
   "execution_count": 9,
   "metadata": {},
   "outputs": [
    {
     "name": "stdout",
     "output_type": "stream",
     "text": [
      "<__main__.Fraccion object at 0x7f05141d18d0>\n"
     ]
    }
   ],
   "source": [
    "miF = Fraccion(3,5)\n",
    "print(miF)"
   ]
  },
  {
   "cell_type": "markdown",
   "metadata": {},
   "source": [
    "El objeto fraccion, miF, no sabe cómo responder a esta solicitud de impresión. La función print requiere que el objeto sea convertido en una cadena para que se pueda escribir en la salida. La única opción que miF tiene es mostrar la referencia real que se almacena en la variable (la dirección en sí misma). Esto no es lo que esperamos al desear imprimir la fracción.\n"
   ]
  },
  {
   "cell_type": "code",
   "execution_count": 14,
   "metadata": {},
   "outputs": [
    {
     "name": "stdout",
     "output_type": "stream",
     "text": [
      "3 / 5\n"
     ]
    }
   ],
   "source": [
    "class Fraccion:\n",
    "\n",
    "    def __init__(self,arriba,abajo):\n",
    "\n",
    "        self.num = arriba\n",
    "        self.den = abajo\n",
    "        \n",
    "    def mostrar(self):\n",
    "     print(self.num,\"/\",self.den)\n",
    "\n",
    "miF = Fraccion(3,5)\n",
    "miF.mostrar()\n",
    "    "
   ]
  },
  {
   "cell_type": "markdown",
   "metadata": {},
   "source": [
    "En Python, todas las clases tienen un conjunto de métodos estándar que se proporcionan pero que podrían no funcionar correctamente. Uno de ellos, __str__, es el método para convertir un objeto en una cadena. \n"
   ]
  },
  {
   "cell_type": "code",
   "execution_count": 25,
   "metadata": {},
   "outputs": [
    {
     "name": "stdout",
     "output_type": "stream",
     "text": [
      "3/5\n",
      "La fracción es: 3/5\n"
     ]
    }
   ],
   "source": [
    "class Fraccion:\n",
    "\n",
    "    def __init__(self,arriba,abajo):\n",
    "\n",
    "        self.num = arriba\n",
    "        self.den = abajo\n",
    "        \n",
    "    def __str__(self):\n",
    "        return str(self.num)+\"/\"+str(self.den)\n",
    "\n",
    "miF = Fraccion(3,5)\n",
    "print(miF)\n",
    "print(\"La fracción es:\", miF)"
   ]
  },
  {
   "cell_type": "code",
   "execution_count": 29,
   "metadata": {},
   "outputs": [
    {
     "name": "stdout",
     "output_type": "stream",
     "text": [
      "3/5\n",
      "La fracción es: 3/5\n"
     ]
    }
   ],
   "source": [
    "class Fraccion:\n",
    "\n",
    "    def __init__(self,arriba,abajo):\n",
    "\n",
    "        self.num = arriba\n",
    "        self.den = abajo\n",
    "        \n",
    "    def str(self):\n",
    "        return str(self.num)+\"/\"+str(self.den)\n",
    "\n",
    "miF = Fraccion(3,5)\n",
    "a = miF.str()\n",
    "print(a)\n",
    "print(\"La fracción es:\", a)"
   ]
  },
  {
   "cell_type": "markdown",
   "metadata": {},
   "source": [
    "Ahora queremos realizar una operación entre dos fracciones, así que realizaremos una suma, para eso usaremos el método __add__"
   ]
  },
  {
   "cell_type": "code",
   "execution_count": 30,
   "metadata": {},
   "outputs": [
    {
     "name": "stdout",
     "output_type": "stream",
     "text": [
      "6/8\n"
     ]
    }
   ],
   "source": [
    "class Fraccion:\n",
    "\n",
    "    def __init__(self,arriba,abajo):\n",
    "\n",
    "        self.num = arriba\n",
    "        self.den = abajo\n",
    "        \n",
    "    def __str__(self):\n",
    "        return str(self.num)+\"/\"+str(self.den)\n",
    "    \n",
    "    def __add__(self,otraFraccion):\n",
    "\n",
    "         nuevoNum = self.num*otraFraccion.den + self.den*otraFraccion.num\n",
    "         nuevoDen = self.den * otraFraccion.den\n",
    "\n",
    "         return Fraccion(nuevoNum,nuevoDen)\n",
    "        \n",
    "f1 = Fraccion(1,4)\n",
    "f2 = Fraccion(1,2)\n",
    "f3 = f1 + f2\n",
    "print(f3)\n",
    "    "
   ]
  },
  {
   "cell_type": "markdown",
   "metadata": {},
   "source": [
    "\n",
    "# Ejercicio\n",
    "\n",
    "## Problema 1\n",
    "Escribir una clase en python llamada rectangulo que contenga una base y una altura, y que contenga un método que devuelva el área del rectángulo.\n",
    "   \n"
   ]
  }
 ],
 "metadata": {
  "kernelspec": {
   "display_name": "Python 3",
   "language": "python",
   "name": "python3"
  },
  "language_info": {
   "codemirror_mode": {
    "name": "ipython",
    "version": 3
   },
   "file_extension": ".py",
   "mimetype": "text/x-python",
   "name": "python",
   "nbconvert_exporter": "python",
   "pygments_lexer": "ipython3",
   "version": "3.4.2"
  }
 },
 "nbformat": 4,
 "nbformat_minor": 2
}
