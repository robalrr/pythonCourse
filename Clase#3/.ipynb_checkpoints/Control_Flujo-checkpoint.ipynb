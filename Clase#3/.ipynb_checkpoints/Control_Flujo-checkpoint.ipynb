{
 "cells": [
  {
   "cell_type": "markdown",
   "metadata": {},
   "source": [
    "# Tema 3: Control de Flujo\n",
    "\n",
    "Una estructura de control, es un bloque de código que permite agrupar instrucciones de manera controlada. Existen dos estructuras de control basicas:\n",
    "\n",
    "    - Estructuras de control condicionales\n",
    "    - Estructuras de control iterativas\n",
    "    \n",
    "    \n",
    "    \n",
    "## Estructuras de cotrol condicionales:\n",
    "\n",
    "Las estructuras de control condicionales, son aquellas que nos permiten evaluar si una o más condiciones se cumplen, para decir qué acción vamos a ejecutar. La evaluación de condiciones, solo puede arrojar 1 de 2 resultados: verdadero o falso (True o False). Se puede resumir los operadores relacionales en la siguiente tabla:\n",
    "\n",
    "\n",
    "| Simbolo | Descripcion | Ejemplo | Resultado|\n",
    "|:-------:|:-----------:|:-------:|:--------:|\n",
    "|   ==    |  Igual que  | 7 == 8  |   false  |\n",
    "|   !=    | Distinto que| rojo != Verde | true|\n",
    "|  <      | Menor que   | 8 < 10  |  true    |\n",
    "|  >      | Mayor que   | 12 > 7  | True     |\n",
    "|  <=     | Menor o igual que | 12 <=12 | True |\n",
    "|>=       | Mayor o igual que | 5 >= 9 | False |\n"
   ]
  },
  {
   "cell_type": "code",
   "execution_count": 4,
   "metadata": {},
   "outputs": [
    {
     "name": "stdout",
     "output_type": "stream",
     "text": [
      "el valor de la variable 'a' es: 21\n",
      "el valor de la variable 'b' es: 10\n",
      "Comparacion == | a no es igual a b\n",
      "Comparacion != | a no es igual a b\n"
     ]
    }
   ],
   "source": [
    "# Ejemplo :\n",
    "\n",
    "\"\"\"\n",
    "    Operadores de comparacion\n",
    "\"\"\"\n",
    "\n",
    "a = 21\n",
    "b = 10\n",
    "\n",
    "print (\"el valor de la variable 'a' es:\", a)\n",
    "print (\"el valor de la variable 'b' es:\", b)\n",
    "\n",
    "if ( a == b ):\n",
    "   print (\"Comparacion == | a es igual a b\")\n",
    "else:\n",
    "   print (\"Comparacion == | a no es igual a b\")\n",
    "\n",
    "if ( a != b ):\n",
    "   print (\"Comparacion != | a no es igual a b\")\n",
    "else:\n",
    "   print (\"Comparacion != | a es igual a b\")\n"
   ]
  },
  {
   "cell_type": "code",
   "execution_count": null,
   "metadata": {},
   "outputs": [],
   "source": []
  }
 ],
 "metadata": {
  "kernelspec": {
   "display_name": "Python 3",
   "language": "python",
   "name": "python3"
  },
  "language_info": {
   "codemirror_mode": {
    "name": "ipython",
    "version": 3
   },
   "file_extension": ".py",
   "mimetype": "text/x-python",
   "name": "python",
   "nbconvert_exporter": "python",
   "pygments_lexer": "ipython3",
   "version": "3.6.5"
  }
 },
 "nbformat": 4,
 "nbformat_minor": 2
}
