{
 "cells": [
  {
   "cell_type": "markdown",
   "metadata": {},
   "source": [
    "# Tema 3: Control de Flujo\n",
    "\n",
    "Una estructura de control, es un bloque de código que permite agrupar instrucciones de manera controlada. Existen dos estructuras de control basicas:\n",
    "\n",
    "    - Estructuras de control condicionales\n",
    "    - Estructuras de control iterativas\n",
    "    \n",
    "    \n",
    "    \n",
    "## Estructuras de cotrol condicionales:\n",
    "\n",
    "Las estructuras de control condicionales, son aquellas que nos permiten evaluar si una o más condiciones se cumplen, para decir qué acción vamos a ejecutar. La evaluación de condiciones, solo puede arrojar 1 de 2 resultados: verdadero o falso (True o False). Se puede resumir los operadores relacionales en la siguiente tabla:\n",
    "\n",
    "\n",
    "| Simbolo | Descripcion | Ejemplo | Resultado|\n",
    "|:-------:|:-----------:|:-------:|:--------:|\n",
    "|   ==    |  Igual que  | 7 == 8  |   false  |\n",
    "|   !=    | Distinto que| rojo != Verde | true|\n",
    "|  <      | Menor que   | 8 < 10  |  true    |\n",
    "|  >      | Mayor que   | 12 > 7  | True     |\n",
    "|  <=     | Menor o igual que | 12 <=12 | True |\n",
    "|>=       | Mayor o igual que | 5 >= 9 | False |\n"
   ]
  },
  {
   "cell_type": "code",
   "execution_count": 4,
   "metadata": {},
   "outputs": [
    {
     "name": "stdout",
     "output_type": "stream",
     "text": [
      "el valor de la variable 'a' es: 21\n",
      "el valor de la variable 'b' es: 10\n",
      "Comparacion == | a no es igual a b\n",
      "Comparacion != | a no es igual a b\n"
     ]
    }
   ],
   "source": [
    "# Ejemplo :\n",
    "\n",
    "\"\"\"\n",
    "    Operadores de comparacion\n",
    "\"\"\"\n",
    "\n",
    "a = 21\n",
    "b = 10\n",
    "\n",
    "print (\"el valor de la variable 'a' es:\", a)\n",
    "print (\"el valor de la variable 'b' es:\", b)\n",
    "\n",
    "if ( a == b ):\n",
    "   print (\"Comparacion == | a es igual a b\")\n",
    "else:\n",
    "   print (\"Comparacion == | a no es igual a b\")\n",
    "\n",
    "if ( a != b ):\n",
    "   print (\"Comparacion != | a no es igual a b\")\n",
    "else:\n",
    "   print (\"Comparacion != | a es igual a b\")\n"
   ]
  },
  {
   "cell_type": "markdown",
   "metadata": {},
   "source": [
    "## Estructuras Iterativas\n",
    "Las estructuras iterativas (también llamadas cíclicas o bucles), nos permiten ejecutar un mismo código, de manera repetida, mientras se cumpla una condición. Existen dos tipos de estructuras ciclicas:\n",
    "\n",
    "    - Bucle while\n",
    "    - Bucle for\n",
    "\n",
    "### Bucle While\n",
    "El bucle while se encarga de ejecutar una misma acción \"mientras que\" una determinada condición se cumpla, existen instrucciones las cuales pueden ser excepciones a esta regla dentro del ciclo while , ellas son **continue** y **break**, cuando se topa con una instruccion continue se vuelve a comenzar a ejecutar el ciclo while sin que este se haya terminado de ejecutar por completo, mientras que cuando se encuentra una instruccion break este termina de ejecutar el ciclo while sin necesidad de verificar la condicion inicial.\n",
    "Se muestra un ejemplo de ciclo while acontinuacion:"
   ]
  },
  {
   "cell_type": "code",
   "execution_count": 6,
   "metadata": {},
   "outputs": [
    {
     "name": "stdout",
     "output_type": "stream",
     "text": [
      "Ejecuto While por bandera\n",
      "Ejecuto While por bandera\n",
      "Ejecuto el while por el continue\n",
      "Salgo del ciclo con un Break\n",
      "\n"
     ]
    }
   ],
   "source": [
    "# Ejemplo ciclo while\n",
    "bandera = True\n",
    "a = 4\n",
    "b = 0\n",
    "while bandera == True :\n",
    "    if(a > 2):\n",
    "        a = a-1\n",
    "        b = b+1\n",
    "        print ('Ejecuto While por bandera')\n",
    "    elif(b == 1):\n",
    "        print ('Salgo del ciclo con un Break')\n",
    "        break\n",
    "    else :\n",
    "        b = b-1\n",
    "        print('Ejecuto el while por el continue')\n",
    "        continue\n",
    "    \n",
    "print()"
   ]
  },
  {
   "cell_type": "markdown",
   "metadata": {},
   "source": [
    "### Bucle For\n",
    "El bucle for funciona un poco distinto a las demas este nos permite iterar sobre una variable tipo lista, esto es conocido como bucle **for-each**, a continuacion se muestra un ejemplo:"
   ]
  },
  {
   "cell_type": "code",
   "execution_count": 7,
   "metadata": {},
   "outputs": [
    {
     "name": "stdout",
     "output_type": "stream",
     "text": [
      "El animal es: gato , la cantidad de letras de la posicion son: 4\n",
      "El animal es: ventana , la cantidad de letras de la posicion son: 7\n",
      "El animal es: defenestrado , la cantidad de letras de la posicion son: 12\n"
     ]
    }
   ],
   "source": [
    "lista_animales = ['gato', 'ventana', 'defenestrado']\n",
    "\n",
    "for animal in lista_animales:\n",
    "    print (\"El animal es:\", animal, \", la cantidad de letras de la posicion son:\", len(animal))\n"
   ]
  },
  {
   "cell_type": "markdown",
   "metadata": {},
   "source": [
    "Otra forma de implementar un ciclo for es mediante un rango. El funcionamiento de este se parece un poco mas al implementado en otros lenguajes como se puede ver en el siguiente ejemplo:"
   ]
  },
  {
   "cell_type": "code",
   "execution_count": 8,
   "metadata": {},
   "outputs": [
    {
     "name": "stdout",
     "output_type": "stream",
     "text": [
      "Informes del Año 2001\n",
      "Informes del Año 2002\n",
      "Informes del Año 2003\n",
      "Informes del Año 2004\n",
      "Informes del Año 2005\n",
      "Informes del Año 2006\n",
      "Informes del Año 2007\n",
      "Informes del Año 2008\n",
      "Informes del Año 2009\n",
      "Informes del Año 2010\n",
      "Informes del Año 2011\n",
      "Informes del Año 2012\n"
     ]
    }
   ],
   "source": [
    "for anio in range(2001, 2013): \n",
    "    print (\"Informes del Año\", str(anio))"
   ]
  },
  {
   "cell_type": "markdown",
   "metadata": {},
   "source": [
    "## Implementaciones\n",
    "En algunos lenguajes existen ciertos tipos de condicionales que en python no, uno de ellos es el ciclo **do-while** Y en ella lo que se pretende es que se ejecute el codigo una primera vez sin haber evaluado la condicion. A continuacion se observa una forma de implementar un condicional como este:"
   ]
  },
  {
   "cell_type": "code",
   "execution_count": 10,
   "metadata": {},
   "outputs": [
    {
     "name": "stdout",
     "output_type": "stream",
     "text": [
      "Salgo\n"
     ]
    }
   ],
   "source": [
    "a = 0\n",
    "while True:\n",
    "  a = a+1      # Operaciones\n",
    "  if a==3:     # Condicion de interrupcion\n",
    "    print(\"Salgo\")    \n",
    "    break"
   ]
  },
  {
   "cell_type": "markdown",
   "metadata": {},
   "source": [
    "Otra posible implementacicon es en caso de que se quieran tener varios escenarios, una forma de implementar esto es mediante **elif** O mediante un diccionario como se muestra a continuacion:"
   ]
  },
  {
   "cell_type": "code",
   "execution_count": 17,
   "metadata": {},
   "outputs": [
    {
     "ename": "SyntaxError",
     "evalue": "invalid syntax (<ipython-input-17-f4728c8b4a04>, line 6)",
     "output_type": "error",
     "traceback": [
      "\u001b[0;36m  File \u001b[0;32m\"<ipython-input-17-f4728c8b4a04>\"\u001b[0;36m, line \u001b[0;32m6\u001b[0m\n\u001b[0;31m    .get(a, 9)    # 9 is default if x not found\u001b[0m\n\u001b[0m    ^\u001b[0m\n\u001b[0;31mSyntaxError\u001b[0m\u001b[0;31m:\u001b[0m invalid syntax\n"
     ]
    }
   ],
   "source": [
    "def f(x):\n",
    "    return {\n",
    "        'a': 1,\n",
    "        'b': 2\n",
    "    }.get(x,9)\n"
   ]
  },
  {
   "cell_type": "code",
   "execution_count": null,
   "metadata": {},
   "outputs": [],
   "source": []
  }
 ],
 "metadata": {
  "kernelspec": {
   "display_name": "Python 3",
   "language": "python",
   "name": "python3"
  },
  "language_info": {
   "codemirror_mode": {
    "name": "ipython",
    "version": 3
   },
   "file_extension": ".py",
   "mimetype": "text/x-python",
   "name": "python",
   "nbconvert_exporter": "python",
   "pygments_lexer": "ipython3",
   "version": "3.6.5"
  }
 },
 "nbformat": 4,
 "nbformat_minor": 2
}
